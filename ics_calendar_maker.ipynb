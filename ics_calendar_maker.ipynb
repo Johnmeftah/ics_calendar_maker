{
 "cells": [
  {
   "cell_type": "code",
   "execution_count": 5,
   "id": "34c558d3-0c4c-47c2-ba35-374c5051041c",
   "metadata": {},
   "outputs": [
    {
     "name": "stdout",
     "output_type": "stream",
     "text": [
      "✅ Saved fall_2025_classes.ics\n"
     ]
    }
   ],
   "source": [
    "from datetime import datetime\n",
    "\n",
    "\n",
    "output = \"fall_2025_classes.ics\" # output file name\n",
    "until = datetime(2025, 12, 22, 23, 59, 0)  # last week of classes\n",
    "room  = \"Room 5382\"\n",
    "\n",
    "def ev(uid, title, start_dt, end_dt, location=room):\n",
    "    return f\"\"\"BEGIN:VEVENT\n",
    "UID:{uid}@gc.cuny.edu\n",
    "SUMMARY:{title}\n",
    "DTSTART;TZID=America/New_York:{start_dt.strftime(\"%Y%m%dT%H%M%S\")}\n",
    "DTEND;TZID=America/New_York:{end_dt.strftime(\"%Y%m%dT%H%M%S\")}\n",
    "LOCATION:{location}\n",
    "RRULE:FREQ=WEEKLY;until={until.strftime(\"%Y%m%dT%H%M%S\")}\n",
    "END:VEVENT\n",
    "\"\"\"\n",
    "\n",
    "ics = \"\"\"BEGIN:VCALENDAR\n",
    "VERSION:2.0\n",
    "PRODID:-//John's Classes//EN\n",
    "CALSCALE:GREGORIAN\n",
    "METHOD:PUBLISH\n",
    "\"\"\"\n",
    "\n",
    "# please note that this calendar does NOT account for holidays or school-specific days off. Be sure to check your official academic calendar for the most accurate schedule\n",
    "\n",
    "# PHYS 75800  starts Wed 8/27 and Mon 9/1\n",
    "ics += ev(\"phys75800-wed\", \"PHYS 75800 - Galactic Phys I (Theor Aspects)\",\n",
    "          datetime(2025, 8, 27, 13, 15), datetime(2025, 8, 27, 14, 55))\n",
    "ics += ev(\"phys75800-mon\", \"PHYS 75800 - Galactic Phys I (Theor Aspects)\",\n",
    "          datetime(2025, 9, 1, 13, 15),  datetime(2025, 9, 1, 14, 55))\n",
    "\n",
    "# ASTR 78100  starts Tue 8/26 and Thu 8/28\n",
    "ics += ev(\"astr78100-tue\", \"ASTR 78100 - Computational Astrophysics\",\n",
    "          datetime(2025, 8, 26, 10, 0),  datetime(2025, 8, 26, 11, 40))\n",
    "ics += ev(\"astr78100-thu\", \"ASTR 78100 - Computational Astrophysics\",\n",
    "          datetime(2025, 8, 28, 10, 0),  datetime(2025, 8, 28, 11, 40))\n",
    "\n",
    "ics += \"END:VCALENDAR\\n\"\n",
    "\n",
    "with open(output, \"w\") as f:\n",
    "    f.write(ics)\n",
    "\n",
    "print(f\"✅ Saved {output}\")\n"
   ]
  },
  {
   "cell_type": "code",
   "execution_count": null,
   "id": "cc223c08-a06b-4411-a656-3887c7cea70e",
   "metadata": {},
   "outputs": [],
   "source": []
  }
 ],
 "metadata": {
  "kernelspec": {
   "display_name": "Python 3 (ipykernel)",
   "language": "python",
   "name": "python3"
  },
  "language_info": {
   "codemirror_mode": {
    "name": "ipython",
    "version": 3
   },
   "file_extension": ".py",
   "mimetype": "text/x-python",
   "name": "python",
   "nbconvert_exporter": "python",
   "pygments_lexer": "ipython3",
   "version": "3.8.17"
  }
 },
 "nbformat": 4,
 "nbformat_minor": 5
}
